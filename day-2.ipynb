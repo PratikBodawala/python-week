{
  "nbformat": 4,
  "nbformat_minor": 0,
  "metadata": {
    "colab": {
      "provenance": [],
      "collapsed_sections": [
        "Lg6iBLx_pDph",
        "09PYo_YqzU66",
        "tYWDHfyvzpJu"
      ]
    },
    "kernelspec": {
      "name": "python3",
      "display_name": "Python 3"
    },
    "language_info": {
      "name": "python"
    }
  },
  "cells": [
    {
      "cell_type": "markdown",
      "source": [
        "# Shallow Copy vs Deep Copy"
      ],
      "metadata": {
        "id": "Lg6iBLx_pDph"
      }
    },
    {
      "cell_type": "markdown",
      "source": [
        "In Python, assigning an object to a new variable doesn't actually create a new object — it creates a reference.\n",
        "\n",
        "There are two types of copies:\n",
        "- **Shallow Copy**: Creates a new object, but inserts references into it.\n",
        "- **Deep Copy**: Creates a new object and recursively copies all nested objects.\n",
        "\n",
        "For this, Python provides:\n",
        "- `copy.copy()` for shallow copy\n",
        "- `copy.deepcopy()` for deep copy"
      ],
      "metadata": {
        "id": "akMnpRbaDPIx"
      }
    },
    {
      "cell_type": "markdown",
      "source": [
        "#### Difference Matrix\n",
        "| Operation        | Outer Object Copied | Nested Objects Copied | Mutations Affect Original |\n",
        "|------------------|---------------------|-----------------------|----------------------------|\n",
        "| Assignment       | ❌                  | ❌                    | ✅                         |\n",
        "| Shallow Copy     | ✅                  | ❌                    | ✅ (nested)    |\n",
        "| Deep Copy        | ✅                  | ✅                    | ❌                         |"
      ],
      "metadata": {
        "id": "LLA5-MetyOMf"
      }
    },
    {
      "cell_type": "markdown",
      "source": [
        "#### Assignment\n",
        "- No new object is created in memory.\n",
        "- A reference is created to original object."
      ],
      "metadata": {
        "id": "e3PagQTXrgaT"
      }
    },
    {
      "cell_type": "code",
      "source": [
        "original = [[1, 2], [3, 4]]\n",
        "\n",
        "# Assignment (no copy at all)\n",
        "new = original\n",
        "new[0][0] = 99\n",
        "new[2] = [5, 6]\n",
        "\n",
        "print(\"Original:\", original)\n",
        "print(\"Assigned:\", new)"
      ],
      "metadata": {
        "id": "YyjZ9WVIpgMK",
        "colab": {
          "base_uri": "https://localhost:8080/",
          "height": 211
        },
        "outputId": "4354fd27-d01b-4bdb-9e76-af8477e06cea"
      },
      "execution_count": null,
      "outputs": [
        {
          "output_type": "error",
          "ename": "IndexError",
          "evalue": "list assignment index out of range",
          "traceback": [
            "\u001b[0;31m---------------------------------------------------------------------------\u001b[0m",
            "\u001b[0;31mIndexError\u001b[0m                                Traceback (most recent call last)",
            "\u001b[0;32m/tmp/ipython-input-5-1437491153.py\u001b[0m in \u001b[0;36m<cell line: 0>\u001b[0;34m()\u001b[0m\n\u001b[1;32m      4\u001b[0m \u001b[0mnew\u001b[0m \u001b[0;34m=\u001b[0m \u001b[0moriginal\u001b[0m\u001b[0;34m\u001b[0m\u001b[0;34m\u001b[0m\u001b[0m\n\u001b[1;32m      5\u001b[0m \u001b[0mnew\u001b[0m\u001b[0;34m[\u001b[0m\u001b[0;36m0\u001b[0m\u001b[0;34m]\u001b[0m\u001b[0;34m[\u001b[0m\u001b[0;36m0\u001b[0m\u001b[0;34m]\u001b[0m \u001b[0;34m=\u001b[0m \u001b[0;36m99\u001b[0m\u001b[0;34m\u001b[0m\u001b[0;34m\u001b[0m\u001b[0m\n\u001b[0;32m----> 6\u001b[0;31m \u001b[0mnew\u001b[0m\u001b[0;34m[\u001b[0m\u001b[0;36m2\u001b[0m\u001b[0;34m]\u001b[0m \u001b[0;34m=\u001b[0m \u001b[0;34m[\u001b[0m\u001b[0;36m5\u001b[0m\u001b[0;34m,\u001b[0m \u001b[0;36m6\u001b[0m\u001b[0;34m]\u001b[0m\u001b[0;34m\u001b[0m\u001b[0;34m\u001b[0m\u001b[0m\n\u001b[0m\u001b[1;32m      7\u001b[0m \u001b[0;34m\u001b[0m\u001b[0m\n\u001b[1;32m      8\u001b[0m \u001b[0mprint\u001b[0m\u001b[0;34m(\u001b[0m\u001b[0;34m\"Original:\"\u001b[0m\u001b[0;34m,\u001b[0m \u001b[0moriginal\u001b[0m\u001b[0;34m)\u001b[0m\u001b[0;34m\u001b[0m\u001b[0;34m\u001b[0m\u001b[0m\n",
            "\u001b[0;31mIndexError\u001b[0m: list assignment index out of range"
          ]
        }
      ]
    },
    {
      "cell_type": "markdown",
      "source": [
        "> 🔎 As you can see, changes in `new` also affect `original`. This is because both variables point to the same object.\n"
      ],
      "metadata": {
        "id": "7QAfsw8spuxx"
      }
    },
    {
      "cell_type": "markdown",
      "source": [
        "#### Shallow Copy\n",
        "- New object is created in memory\n",
        "- Nested objects are referenced and not newly allocated"
      ],
      "metadata": {
        "id": "zlf8M83XrJJF"
      }
    },
    {
      "cell_type": "code",
      "source": [
        "import copy\n",
        "\n",
        "original = [[1, 2], [3, 4,]]\n",
        "\n",
        "# Shallow Copy\n",
        "shallow = copy.copy(original)\n",
        "\n",
        "#Modify nested value\n",
        "shallow[0][0] = [1, 2, 4]\n",
        "print(\"Original:\", original)\n",
        "print(\"Shallow:\", shallow)\n",
        "print(\"------\")\n",
        "\n",
        "# # Modify value\n",
        "# shallow[1] = [5, 6]\n",
        "# shallow.append([7, 8])\n",
        "# print(\"Original:\", original)\n",
        "# print(\"Shallow:\", shallow)"
      ],
      "metadata": {
        "id": "ORwD6fuxp6e_",
        "colab": {
          "base_uri": "https://localhost:8080/"
        },
        "outputId": "34efe057-abcf-4b59-985c-6fea66d30b8b"
      },
      "execution_count": null,
      "outputs": [
        {
          "output_type": "stream",
          "name": "stdout",
          "text": [
            "Original: [[[1, 2, 4], 2], [3, 4]]\n",
            "Shallow: [[[1, 2, 4], 2], [3, 4]]\n",
            "------\n"
          ]
        }
      ]
    },
    {
      "cell_type": "markdown",
      "source": [
        "> ✅ `copy.copy()` creates a new outer list, but inner lists are still shared (referenced). So changes inside inner lists affect both.\n"
      ],
      "metadata": {
        "id": "_md-5vqFqQvp"
      }
    },
    {
      "cell_type": "markdown",
      "source": [
        "#### Deep Copy\n",
        "- Outer(main) and inner objects are created with new allocation in memory and not referenced."
      ],
      "metadata": {
        "id": "UPr8P-Ravb5K"
      }
    },
    {
      "cell_type": "code",
      "source": [
        "original = [[1, 2], [3, 4]]\n",
        "\n",
        "# Deep Copy\n",
        "deep = copy.deepcopy(original)\n",
        "deep[0][0] = 7\n",
        "\n",
        "print(\"Original:\", original)\n",
        "print(\"Deep:\", deep)\n"
      ],
      "metadata": {
        "id": "XfB7zFT_vqMR",
        "colab": {
          "base_uri": "https://localhost:8080/"
        },
        "outputId": "50d35f27-4c8f-4fc7-cd3d-1a2674310e83"
      },
      "execution_count": null,
      "outputs": [
        {
          "output_type": "stream",
          "name": "stdout",
          "text": [
            "Original: [[1, 2], [3, 4]]\n",
            "Deep: [[7, 2], [3, 4]]\n"
          ]
        }
      ]
    },
    {
      "cell_type": "markdown",
      "source": [
        "> ✅ `copy.deepcopy()` creates a completely independent copy including all nested structures.\n"
      ],
      "metadata": {
        "id": "8s9Phr6AwpPK"
      }
    },
    {
      "cell_type": "markdown",
      "source": [
        "# File Handling\n"
      ],
      "metadata": {
        "id": "X0VqNLxyoiK2"
      }
    },
    {
      "cell_type": "markdown",
      "source": [
        "## Introduction\n",
        "\n",
        "File handling allows a program to store data **permanently** by creating, reading, writing, and modifying files on the file system.\n",
        "\n",
        "### 🔹 Why is File Handling Important?\n",
        "\n",
        "| Use Case            | Example                            |\n",
        "|---------------------|------------------------------------|\n",
        "| Data Logging        | Writing logs to a `.txt` file      |\n",
        "| Configuration Files | Reading settings from `.json`      |\n",
        "| Data Exchange       | CSV or JSON between systems        |\n",
        "| Data Persistence    | Save processed results in a file   |\n",
        "\n",
        "### 🔹 Types of Files\n",
        "\n",
        "| Type   | Description                 | Example           |\n",
        "|--------|-----------------------------|-------------------|\n",
        "| Text   | Human-readable              | `.txt`, `.csv`    |\n",
        "| Binary | Encoded for machine reading | `.jpg`, `.pdf`    |"
      ],
      "metadata": {
        "id": "5VjR0kwmK43o"
      }
    },
    {
      "cell_type": "markdown",
      "source": [
        "## File Open"
      ],
      "metadata": {
        "id": "IiyXqoI2Skeo"
      }
    },
    {
      "cell_type": "markdown",
      "source": [
        "###1. Opening a File\n",
        "Use the open() function to open a file. It takes two main arguments: the file path and the mode."
      ],
      "metadata": {
        "id": "ebTVuSjUSp56"
      }
    },
    {
      "cell_type": "code",
      "source": [
        "file = open('example.txt', 'w')\n",
        "# Always close the file after use\n",
        "file.close()"
      ],
      "metadata": {
        "id": "FJt64Tn4SuwO"
      },
      "execution_count": null,
      "outputs": []
    },
    {
      "cell_type": "markdown",
      "source": [
        "### 2. Using `with` Statement\n",
        "\n",
        "The `with` statement is recommended for file handling as it automatically closes the file, even if an error occurs."
      ],
      "metadata": {
        "id": "vECBPoZ7Swvk"
      }
    },
    {
      "cell_type": "code",
      "source": [
        "# Reading the entire file\n",
        "with open('example.txt', 'r') as file:\n",
        "    content = file.read()\n",
        "    print(content)"
      ],
      "metadata": {
        "id": "mSA8QoeBTAo5",
        "colab": {
          "base_uri": "https://localhost:8080/"
        },
        "outputId": "99be8d2f-13b9-4969-d313-759776f9a0e1"
      },
      "execution_count": null,
      "outputs": [
        {
          "output_type": "stream",
          "name": "stdout",
          "text": [
            "\n"
          ]
        }
      ]
    },
    {
      "cell_type": "markdown",
      "source": [
        "## Writing Methods\n"
      ],
      "metadata": {
        "id": "A7kvTN2sTWpj"
      }
    },
    {
      "cell_type": "markdown",
      "source": [
        " `write()` Method\n",
        "\n",
        "Writes a string to the file. If the file is opened in `'w'` mode, it overwrites the file; in `'a'` mode, it appends."
      ],
      "metadata": {
        "id": "Ytsto-POTty0"
      }
    },
    {
      "cell_type": "code",
      "source": [
        "# Writing to a file (overwrites if exists)\n",
        "with open('example.txt', 'w') as file:\n",
        "    file.write('Hello, Python!\\n')\n",
        "    file.write('This is a new line.\\n')"
      ],
      "metadata": {
        "id": "Gh6Q1Sl2T2nq"
      },
      "execution_count": null,
      "outputs": []
    },
    {
      "cell_type": "code",
      "source": [
        "# Appending to a file\n",
        "with open('example.txt', 'a') as file:\n",
        "    file.write('This line is appended.\\n')"
      ],
      "metadata": {
        "id": "iuKRqoJhUN1Q"
      },
      "execution_count": null,
      "outputs": []
    },
    {
      "cell_type": "code",
      "source": [
        "# Writing multiple lines using writelines\n",
        "lines = ['Line 1\\n', 'Line 2\\n', 'Line 3\\n']\n",
        "with open('example.txt', 'a') as file:\n",
        "    file.writelines(lines)"
      ],
      "metadata": {
        "id": "eece0BD7URRV"
      },
      "execution_count": null,
      "outputs": []
    },
    {
      "cell_type": "markdown",
      "source": [
        "##Read Methods"
      ],
      "metadata": {
        "id": "cdVK061nUns6"
      }
    },
    {
      "cell_type": "code",
      "source": [
        "# Reading the entire file\n",
        "with open('example.txt', 'r') as file:\n",
        "    content = file.read()\n",
        "    print(content)"
      ],
      "metadata": {
        "id": "Zy0Zh3iiUzbS",
        "colab": {
          "base_uri": "https://localhost:8080/"
        },
        "outputId": "99695052-eee6-43a1-d9a2-d75cb8e95721"
      },
      "execution_count": null,
      "outputs": [
        {
          "output_type": "stream",
          "name": "stdout",
          "text": [
            "Hello, Python!\n",
            "This is a new line.\n",
            "This line is appended.\n",
            "Line 1\n",
            "Line 2\n",
            "Line 3\n",
            "\n"
          ]
        }
      ]
    },
    {
      "cell_type": "code",
      "source": [
        "# Reading first 10 characters\n",
        "with open('example.txt', 'r') as file:\n",
        "    content = file.read(10)\n",
        "    print(content)"
      ],
      "metadata": {
        "id": "BXEk_m1lU1_g",
        "colab": {
          "base_uri": "https://localhost:8080/"
        },
        "outputId": "2ce97a75-eaca-454a-9c80-8f08aa170c1f"
      },
      "execution_count": null,
      "outputs": [
        {
          "output_type": "stream",
          "name": "stdout",
          "text": [
            "Hello, Pyt\n"
          ]
        }
      ]
    },
    {
      "cell_type": "code",
      "source": [
        "# Reading one line\n",
        "with open('example.txt', 'r') as file:\n",
        "    line = file.readline()\n",
        "    print(line.strip())  # strip() removes leading/trailing whitespace"
      ],
      "metadata": {
        "id": "6fsoei1PU6q0",
        "colab": {
          "base_uri": "https://localhost:8080/"
        },
        "outputId": "f267349f-a9cc-479d-c3d1-880c2966a9a7"
      },
      "execution_count": null,
      "outputs": [
        {
          "output_type": "stream",
          "name": "stdout",
          "text": [
            "Hello, Python!\n"
          ]
        }
      ]
    },
    {
      "cell_type": "code",
      "source": [
        "# Reading all lines into a list\n",
        "with open('example.txt', 'r') as file:\n",
        "    lines = file.readlines()\n",
        "    for line in lines:\n",
        "        print(line.strip())"
      ],
      "metadata": {
        "id": "rvRl2tBOVCql",
        "colab": {
          "base_uri": "https://localhost:8080/"
        },
        "outputId": "ba3df695-b26e-4eb2-f0c8-20f79c4cc725"
      },
      "execution_count": null,
      "outputs": [
        {
          "output_type": "stream",
          "name": "stdout",
          "text": [
            "Hello, Python!\n",
            "This is a new line.\n",
            "This line is appended.\n",
            "Line 1\n",
            "Line 2\n",
            "Line 3\n"
          ]
        }
      ]
    },
    {
      "cell_type": "markdown",
      "source": [
        "| Mode  | Name              | Description                                                                 |\n",
        "|-------|-------------------|-----------------------------------------------------------------------------|\n",
        "| `r`   | Read              | Opens a file for reading (default). File must exist.                        |\n",
        "| `w`   | Write             | Opens a file for writing. Creates file if it doesn't exist, truncates if it does. |\n",
        "| `a`   | Append            | Opens a file for appending. Creates file if it doesn't exist.               |\n",
        "| `r+`  | Read and Write    | Opens file for reading and writing. File must exist.                        |\n",
        "| `w+`  | Write and Read    | Opens file for reading and writing. Truncates the file if it exists.        |\n",
        "| `a+`  | Append and Read   | Opens file for appending and reading. Creates file if it doesn't exist.     |\n",
        "| `x`   | Exclusive Create  | Creates a new file and opens it for writing. Fails if file exists.          |\n"
      ],
      "metadata": {
        "id": "tEHUqUdTByUa"
      }
    },
    {
      "cell_type": "markdown",
      "source": [
        "## Seek"
      ],
      "metadata": {
        "id": "tuJ0WxA0WVNm"
      }
    },
    {
      "cell_type": "markdown",
      "source": [
        "\n",
        "The `seek()` method moves the file cursor to a specified position. It takes an offset and an optional `whence` parameter\n",
        "\n",
        "seek(int, whence)\n",
        "\n",
        "`whence` takes 0, 1 or 2 as value\n",
        "\n",
        "- 0: sets the reference point at the beginning of the file\n",
        "- 1: sets the reference point at the current file position\n",
        "- 2: sets the reference point at the end of the file"
      ],
      "metadata": {
        "id": "qygp-vyMWcNh"
      }
    },
    {
      "cell_type": "code",
      "source": [
        "# Reading from a specific position\n",
        "with open('example.txt', 'r') as file:\n",
        "    file.seek(7)  # Move cursor to position 7\n",
        "    content = file.read()  # Read from position 7 onward\n",
        "    print(content)"
      ],
      "metadata": {
        "id": "jbhnsVwVWYkf",
        "colab": {
          "base_uri": "https://localhost:8080/"
        },
        "outputId": "3acecf30-8a09-4b52-b1dd-dc77345cbc46"
      },
      "execution_count": null,
      "outputs": [
        {
          "output_type": "stream",
          "name": "stdout",
          "text": [
            "Python!\n",
            "This is a new line.\n",
            "This line is appended.\n",
            "Line 1\n",
            "Line 2\n",
            "Line 3\n",
            "\n"
          ]
        }
      ]
    },
    {
      "cell_type": "code",
      "source": [
        "# Using seek with whence\n",
        "with open('example.txt', 'r') as file:\n",
        "    file.seek(0, 2)  # Move to the end of the file\n",
        "    print(\"Cursor at end, no content to read:\", file.read())\n",
        "    file.seek(0)  # Move back to start\n",
        "    content = file.read()\n",
        "    print(\"Content from start:\", content)"
      ],
      "metadata": {
        "id": "f9HdvWagWgLn",
        "colab": {
          "base_uri": "https://localhost:8080/"
        },
        "outputId": "ae7aa44a-3c34-42b5-cc1a-548a809db8b3"
      },
      "execution_count": null,
      "outputs": [
        {
          "output_type": "stream",
          "name": "stdout",
          "text": [
            "Cursor at end, no content to read: \n",
            "Content from start: Hello, Python!\n",
            "This is a new line.\n",
            "This line is appended.\n",
            "Line 1\n",
            "Line 2\n",
            "Line 3\n",
            "\n"
          ]
        }
      ]
    },
    {
      "cell_type": "code",
      "source": [
        "with open('example.txt', 'r+') as file:\n",
        "    content = file.read()  # Read all content\n",
        "    print(\"Original:\", content)\n",
        "    file.seek(5)  # Move to start\n",
        "    file.write('Updated!')  # Overwrite beginning"
      ],
      "metadata": {
        "id": "1B--4P_SWmKc",
        "colab": {
          "base_uri": "https://localhost:8080/"
        },
        "outputId": "4ef0d7ea-3eb2-4d3f-d2b8-a58274b38c71"
      },
      "execution_count": null,
      "outputs": [
        {
          "output_type": "stream",
          "name": "stdout",
          "text": [
            "Original: HelloUpdated!!\n",
            "This is a new line.\n",
            "This line is appended.\n",
            "Line 1\n",
            "Line 2\n",
            "Line 3\n",
            "\n"
          ]
        }
      ]
    },
    {
      "cell_type": "markdown",
      "source": [
        "##Reading and Writing Binary Files"
      ],
      "metadata": {
        "id": "ditFYCfOXDB_"
      }
    },
    {
      "cell_type": "markdown",
      "source": [
        "Binary files require `'b'` mode. Use `read()` and `write` for binary data."
      ],
      "metadata": {
        "id": "dGytdsv3XF12"
      }
    },
    {
      "cell_type": "code",
      "source": [
        "data = b'%PDF-1.4\\n%Fake PDF data\\n'\n",
        "\n",
        "# Write raw bytes to a new file\n",
        "with open('example.pdf', 'wb') as f:\n",
        "    f.write(data)"
      ],
      "metadata": {
        "id": "HAzmze3pXP15"
      },
      "execution_count": null,
      "outputs": []
    },
    {
      "cell_type": "code",
      "source": [
        "with open('example.pdf', 'rb') as f:\n",
        "    header = f.read(10)\n",
        "    print(header)\n"
      ],
      "metadata": {
        "id": "FFJP3hVrXTYZ",
        "colab": {
          "base_uri": "https://localhost:8080/"
        },
        "outputId": "ac3b10b3-8a43-44e5-94d4-01f64cbceeba"
      },
      "execution_count": null,
      "outputs": [
        {
          "output_type": "stream",
          "name": "stdout",
          "text": [
            "b'%PDF-1.4\\n%'\n"
          ]
        }
      ]
    },
    {
      "cell_type": "code",
      "source": [
        "# Copying an image file\n",
        "with open('source_image.png', 'rb') as source:\n",
        "    with open('copy_image.png', 'wb') as destination:\n",
        "        destination.write(source.read())\n",
        "\n"
      ],
      "metadata": {
        "id": "IbpDCSnMYB_b"
      },
      "execution_count": null,
      "outputs": []
    },
    {
      "cell_type": "markdown",
      "source": [
        "## Handling File Exceptions"
      ],
      "metadata": {
        "id": "IIeY6zdlahob"
      }
    },
    {
      "cell_type": "markdown",
      "source": [
        "File operations can raise exceptions like `FileNotFoundError` or `PermissionError`."
      ],
      "metadata": {
        "id": "Z-HsWZkzaol3"
      }
    },
    {
      "cell_type": "code",
      "source": [
        "# Example: Checking File Existence\n",
        "import os\n",
        "\n",
        "if os.path.exists('example.txt'):\n",
        "    print(\"File exists!\")\n",
        "else:\n",
        "    print(\"File does not exist!\")"
      ],
      "metadata": {
        "id": "RDcFXw_Da2MQ",
        "colab": {
          "base_uri": "https://localhost:8080/"
        },
        "outputId": "eff69b0c-1fe1-4d1a-cc30-427b66fde57a"
      },
      "execution_count": null,
      "outputs": [
        {
          "output_type": "stream",
          "name": "stdout",
          "text": [
            "File exists!\n"
          ]
        }
      ]
    },
    {
      "cell_type": "code",
      "source": [
        "# Example: Checking File Existence\n",
        "try:\n",
        "    with open('nonexistent.txt', 'r') as file:\n",
        "        content = file.read()\n",
        "except FileNotFoundError:\n",
        "    print(\"Error: File not found!\")\n",
        "except PermissionError:\n",
        "    print(\"Error: Permission denied!\")"
      ],
      "metadata": {
        "id": "J9B1P87ratqS",
        "colab": {
          "base_uri": "https://localhost:8080/"
        },
        "outputId": "3f829dae-21b7-41a8-c822-bc968fcda831"
      },
      "execution_count": null,
      "outputs": [
        {
          "output_type": "stream",
          "name": "stdout",
          "text": [
            "Error: File not found!\n"
          ]
        }
      ]
    },
    {
      "cell_type": "markdown",
      "source": [
        "\n",
        "# JSON & CSV Processing"
      ],
      "metadata": {
        "id": "mtIdNxJeGiIg"
      }
    },
    {
      "cell_type": "markdown",
      "source": [
        "### JSON"
      ],
      "metadata": {
        "id": "g6fL7PuFDgq4"
      }
    },
    {
      "cell_type": "markdown",
      "source": [
        "JSON (JavaScript Object Notation) is a lightweight format for storing and transporting data, often used for APIs and configurations.\n",
        "\n",
        "Common Operations:\n",
        "- `json.dump()` – Write Python object to a JSON file\n",
        "- `json.load()` – Read JSON file into a Python object\n",
        "- `json.dumps()` → Convert dictionary into **JSON strings**\n",
        "- `json.loads()` → Convert **JSON strings** into dictionary\n"
      ],
      "metadata": {
        "id": "QM7x6UIDDzgr"
      }
    },
    {
      "cell_type": "code",
      "source": [
        "import json\n",
        "\n",
        "data = {\n",
        "    \"name\": \"Alice\",\n",
        "    \"age\": 25,\n",
        "    \"skills\": [\"Python\", \"Data Science\"]\n",
        "}\n",
        "\n",
        "# Write to a JSON file\n",
        "# with open(\"data.json\", \"w\") as json_file:\n",
        "#     json.dump(data, json_file)\n",
        "\n",
        "# # Read from a JSON file\n",
        "# with open(\"data.json\", \"r\") as json_file:\n",
        "#     loaded_data = json.load(json_file)\n",
        "# print(\"Content loaded from JSON file:\")\n",
        "# print(loaded_data)\n",
        "\n",
        "# # Convert to JSON string\n",
        "json_str = json.dumps(data, indent=4)\n",
        "# print(\"\\nJSON String:\")\n",
        "# print(json_str)\n",
        "\n",
        "# # Convert JSON string back to Python dict\n",
        "parsed_data = json.loads(json_str)\n",
        "print(\"\\nParsed Python Dictionary:\")\n",
        "print(parsed_data)\n"
      ],
      "metadata": {
        "id": "5rC-vJiCD2hV",
        "colab": {
          "base_uri": "https://localhost:8080/"
        },
        "outputId": "0c2348db-fab2-405f-f5a3-421443269f01"
      },
      "execution_count": null,
      "outputs": [
        {
          "output_type": "stream",
          "name": "stdout",
          "text": [
            "\n",
            "Parsed Python Dictionary:\n",
            "{'name': 'Alice', 'age': 25, 'skills': ['Python', 'Data Science']}\n"
          ]
        }
      ]
    },
    {
      "cell_type": "markdown",
      "source": [
        "### CSV\n"
      ],
      "metadata": {
        "id": "mhd2LcHNECz3"
      }
    },
    {
      "cell_type": "markdown",
      "source": [
        "CSV (Comma-Separated Values) is a common format for tabular data. Python’s `csv` module is used to read and write CSV files.\n",
        "\n",
        "Common Operations:\n",
        "- `csv.writer()` – Creates an object to write rows in a CSV file\n",
        "- `csv.reader()` – Creates an object to read rows from a CSV file"
      ],
      "metadata": {
        "id": "X7GJSfflEEzm"
      }
    },
    {
      "cell_type": "code",
      "source": [
        "import csv\n",
        "\n",
        "# Data to write\n",
        "rows = [\n",
        "    [\"Name\", \"Age\", \"City\"],\n",
        "    [\"Alice\", 25, \"New York\"],\n",
        "    [\"Bob\", 30, \"London\"]\n",
        "]\n",
        "\n",
        "# Write to CSV\n",
        "# with open(\"people.csv\", \"w\", newline=\"\") as file:\n",
        "#     writer = csv.writer(file)\n",
        "#     writer.writerows(rows)\n",
        "\n",
        "# # Read from CSV\n",
        "with open(\"people.csv\", \"r\") as file:\n",
        "    reader = csv.reader(file)\n",
        "    for row in reader:\n",
        "        print(row)\n"
      ],
      "metadata": {
        "id": "fIuBjq9_Ee7g",
        "colab": {
          "base_uri": "https://localhost:8080/"
        },
        "outputId": "270fe387-cbe0-4a54-ae05-de302dd218c8"
      },
      "execution_count": null,
      "outputs": [
        {
          "output_type": "stream",
          "name": "stdout",
          "text": [
            "['Name', 'Age', 'City']\n",
            "['Alice', '25', 'New York']\n",
            "['Bob', '30', 'London']\n"
          ]
        }
      ]
    },
    {
      "cell_type": "markdown",
      "source": [
        "We can also use Python `dict` to work with CSV files instead of `list`.\n",
        "\n",
        "- `csv.DictWriter` - Writes dictionary into CSV file\n",
        "- `csv.DictReader` - Reads CSV file as a dictionary"
      ],
      "metadata": {
        "id": "tj_pTVxaEujH"
      }
    },
    {
      "cell_type": "code",
      "source": [
        "import csv\n",
        "import time\n",
        "\n",
        "# Dict-based CSV operations\n",
        "with open(\"people_dict.csv\", \"w\", newline=\"\") as file:\n",
        "    writer = csv.DictWriter(file, fieldnames=[\"Name\", \"Age\", \"City\"])\n",
        "    writer.writeheader() # Writes first line of headers\n",
        "    file.flush()\n",
        "    time.sleep(30)\n",
        "    writer.writerow({\"Name\": \"Charlie\", \"Age\": 28, \"City\": \"Paris\"})\n",
        "\n",
        "# with open(\"people_dict.csv\", \"r\") as file:\n",
        "#     reader = csv.DictReader(file)\n",
        "#     for row in reader:\n",
        "#         print(dict(row))\n"
      ],
      "metadata": {
        "id": "W1yUOR9OExeW"
      },
      "execution_count": null,
      "outputs": []
    },
    {
      "cell_type": "markdown",
      "source": [
        "# Bonus"
      ],
      "metadata": {
        "id": "09PYo_YqzU66"
      }
    },
    {
      "cell_type": "markdown",
      "source": [
        "### Enhanced Value Swapping"
      ],
      "metadata": {
        "id": "lG1C1cG8zcNu"
      }
    },
    {
      "cell_type": "markdown",
      "source": [
        "#### Traditional Approach\n",
        "With temp variable"
      ],
      "metadata": {
        "id": "tYWDHfyvzpJu"
      }
    },
    {
      "cell_type": "code",
      "source": [
        "a, b = 5, 10\n",
        "\n",
        "temp = a\n",
        "a = b\n",
        "b = temp\n",
        "\n",
        "a, b"
      ],
      "metadata": {
        "id": "kUo_kp7rzky2",
        "colab": {
          "base_uri": "https://localhost:8080/"
        },
        "outputId": "4179693b-d2ab-471a-a343-48f13dcd006b"
      },
      "execution_count": null,
      "outputs": [
        {
          "output_type": "execute_result",
          "data": {
            "text/plain": [
              "(10, 5)"
            ]
          },
          "metadata": {},
          "execution_count": 46
        }
      ]
    },
    {
      "cell_type": "markdown",
      "source": [
        "#### Pythonic Approach\n",
        "Tuple based value swapping in Python\n",
        "- More memory efficient\n",
        "- Easy to scale upto *n* variables and any order"
      ],
      "metadata": {
        "id": "jMWURjpo06qV"
      }
    },
    {
      "cell_type": "code",
      "source": [
        "\"\"\"\n",
        "a, b = b, a creates a temporary tuple (b, a) and unpacks it back to a and b.\n",
        "\"\"\"\n",
        "\n",
        "a, b = 5, 10\n",
        "\n",
        "a, b = b, a\n",
        "\n",
        "a, b\n"
      ],
      "metadata": {
        "id": "WFvvyfaT1aTJ",
        "colab": {
          "base_uri": "https://localhost:8080/"
        },
        "outputId": "0d80992c-f363-42dd-b529-9fd6d781f403"
      },
      "execution_count": null,
      "outputs": [
        {
          "output_type": "execute_result",
          "data": {
            "text/plain": [
              "(10, 5)"
            ]
          },
          "metadata": {},
          "execution_count": 47
        }
      ]
    },
    {
      "cell_type": "markdown",
      "source": [
        "### In-memory File processing"
      ],
      "metadata": {
        "id": "JO2eOSOHHNeu"
      }
    },
    {
      "cell_type": "markdown",
      "source": [
        "In-memory file processing allows you to simulate file read/write operations without actually touching the disk.\n",
        "\n",
        "This is useful for:\n",
        "- Testing file operations\n",
        "- Temporary data processing\n",
        "- Speed optimization (avoids I/O overhead)\n",
        "\n",
        "Python provides two key classes from the `io` module:\n",
        "- `io.StringIO` – for text data (like `.txt`, `.csv`)\n",
        "- `io.BytesIO` – for binary data (like `.jpg`, `.pdf`)\n"
      ],
      "metadata": {
        "id": "do6n_ecEHVNI"
      }
    },
    {
      "cell_type": "markdown",
      "source": [
        "#### Usecase\n",
        "\n",
        "Attach a report as file attachment with an automated email. The files are not actual reports stored on a disk but calculated from DB on runtime."
      ],
      "metadata": {
        "id": "bqNCvsGjHwKz"
      }
    },
    {
      "cell_type": "code",
      "source": [
        "import io\n",
        "\n",
        "# Create in-memory text file\n",
        "report = io.StringIO()\n",
        "\n",
        "# Write some report data\n",
        "report.write(\"Sales Report\\n\")\n",
        "report.write(\"=================\\n\")\n",
        "report.write(\"Product A: $5000\\nProduct B: $3000\\n\")\n",
        "\n",
        "# Simulate sending file to email or uploading to S3\n",
        "report.seek(0)\n",
        "email_body = report.getvalue() #reads an content at once\n",
        "print(\"Sending report:\\n\", email_body)\n",
        "\n",
        "report.close()\n"
      ],
      "metadata": {
        "id": "45OPzFXxHvVd",
        "colab": {
          "base_uri": "https://localhost:8080/"
        },
        "outputId": "0a2ce9e2-e8ce-4516-9912-e72d193121e9"
      },
      "execution_count": null,
      "outputs": [
        {
          "output_type": "stream",
          "name": "stdout",
          "text": [
            "Sending report:\n",
            " Sales Report\n",
            "=================\n",
            "Product A: $5000\n",
            "Product B: $3000\n",
            "\n"
          ]
        }
      ]
    },
    {
      "cell_type": "code",
      "source": [
        "with open('t1.txt', 'w') as t1, open('t2.txt', 'w'):\n",
        "  t1.write('t1')\n",
        "  t2.write('t2')\n",
        "\n"
      ],
      "metadata": {
        "id": "UyLjQMx2VOSA"
      },
      "execution_count": null,
      "outputs": []
    }
  ]
}